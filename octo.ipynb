{
 "cells": [
  {
   "cell_type": "code",
   "execution_count": 88,
   "id": "1afdfed7",
   "metadata": {},
   "outputs": [],
   "source": [
    "from octorest import OctoRest\n",
    "import requests\n",
    "import json\n",
    "import time\n",
    "\n"
   ]
  },
  {
   "cell_type": "code",
   "execution_count": 32,
   "id": "4373ec60",
   "metadata": {},
   "outputs": [],
   "source": [
    "#To do list\n",
    "\n",
    "#Hardware purchase\n",
    "\n",
    "#02.12.2022 - todo\n",
    "## data transfer between windows and linux --> share folders -->done\n",
    "## Prepare a start and end gcode --> ask raz --06.12\n",
    "## Discuss how to refill the printers\n",
    "\n",
    "#try to do big model"
   ]
  },
  {
   "cell_type": "code",
   "execution_count": 89,
   "id": "5bbf482b",
   "metadata": {},
   "outputs": [],
   "source": [
    "class octoprint():\n",
    "    def __init__(self,url,apikey):\n",
    "        try:\n",
    "            #self.client = OctoRest(url=\"http://octopi.local\", apikey=\"C2E7F1CFD00C489B830AC4C7458201CC\")\n",
    "            self.client = OctoRest(url=url, apikey=apikey)   \n",
    "        except Exception as e:\n",
    "            print(e)\n",
    "    def connect(self):\n",
    "        print('Connecting..')\n",
    "        try:\n",
    "            print(self.client.connect())\n",
    "            connect_info= self.client.connection_info()\n",
    "        except Exception as e:\n",
    "            print('no connection')\n",
    "            print(e)\n",
    "#         if(self.client.connect() ==None):\n",
    "#             print('No Connection to printer!!!')\n",
    "#             return False\n",
    "#         else:\n",
    "#             print('Connnected')\n",
    "#             return True\n",
    "    def get_version(self):\n",
    "        message = \"You are using OctoPrint v\" + self.client.version['server'] + \"\\n\"\n",
    "        return message\n",
    "    def get_printer_info(self):\n",
    "        try:\n",
    "            message = \"\"\n",
    "            message += str(self.client.version) + \"\\n\"\n",
    "            message += str(self.client.job_info()) + \"\\n\"\n",
    "            printing = self.client.printer()['state']['flags']['printing']\n",
    "            if printing:\n",
    "                message += \"Currently printing!\\n\"\n",
    "            else:\n",
    "                message += \"Not currently printing...\\n\"\n",
    "            return message\n",
    "        except Exception as e:\n",
    "            print(e)\n",
    "    def is_Printing(self):\n",
    "        printing = self.client.printer()['state']['flags']['printing']\n",
    "        if printing:\n",
    "            return False\n",
    "        else:\n",
    "            return True \n",
    "            \n",
    "    def upload(self,file_name):\n",
    "        self.client.upload(file=file_name)\n",
    "        print('Uploading...')\n",
    "    \n",
    "    def start_print(self,file):\n",
    "        self.client.select(file)\n",
    "        self.client.start()\n",
    "    def pause_operation(self):\n",
    "        self.client.pause()\n",
    "        \n",
    "    def resume_operation(self):\n",
    "        self.client.resume()\n",
    "    def printer_state(self):\n",
    "        #print(self.client.printer()['state']['flags']['ready'])\n",
    "        ready = self.client.printer()['state']['flags']['ready']\n",
    "        #print(ready)\n",
    "        if ready:\n",
    "            return True\n",
    "        else:\n",
    "            return False \n",
    "    def cancel_print():\n",
    "        self.client.cancel()\n",
    "\n",
    "    ##stop print\n",
    "    ## add print profile\n",
    "    ##add pause and resume function"
   ]
  },
  {
   "cell_type": "code",
   "execution_count": 98,
   "id": "47b39146",
   "metadata": {},
   "outputs": [
    {
     "name": "stdout",
     "output_type": "stream",
     "text": [
      "Connecting..\n",
      "None\n",
      "False\n",
      "False\n",
      "False\n",
      "waiting\n",
      "False\n",
      "False\n",
      "False\n",
      "waiting\n",
      "False\n",
      "False\n",
      "False\n",
      "waiting\n",
      "False\n",
      "False\n",
      "False\n",
      "waiting\n",
      "False\n",
      "False\n",
      "False\n",
      "waiting\n",
      "False\n",
      "False\n",
      "False\n",
      "waiting\n",
      "False\n",
      "False\n",
      "False\n",
      "waiting\n",
      "False\n",
      "False\n",
      "False\n",
      "waiting\n",
      "False\n",
      "False\n",
      "False\n",
      "waiting\n",
      "False\n",
      "False\n",
      "False\n",
      "waiting\n",
      "False\n",
      "False\n",
      "False\n",
      "waiting\n",
      "False\n",
      "False\n",
      "False\n",
      "waiting\n",
      "False\n",
      "False\n",
      "False\n",
      "waiting\n",
      "False\n",
      "False\n",
      "False\n",
      "waiting\n",
      "False\n",
      "False\n",
      "False\n",
      "waiting\n",
      "False\n",
      "False\n",
      "False\n",
      "waiting\n",
      "False\n",
      "False\n",
      "False\n",
      "waiting\n",
      "False\n",
      "False\n",
      "False\n",
      "waiting\n",
      "False\n",
      "False\n",
      "False\n",
      "waiting\n",
      "True\n",
      "True\n",
      "True\n",
      "--> Print started 9\n"
     ]
    }
   ],
   "source": [
    "# 9 octoprint instances\n",
    "with open(\"octopi_config.json\") as json_data_file:\n",
    "    data = json.load(json_data_file)\n",
    "#     print(data['connect']['url'])\n",
    "#     print(data['connect2']['url'])\n",
    "       \n",
    "\n",
    "octopi = octoprint(data['connect']['url'],data['connect']['apikey'])\n",
    "# octopi2 = octoprint(data['connect2']['url'],data['connect2']['apikey'])\n",
    "# octopi3 = octoprint(data['connect3']['url'],data['connect3']['apikey'])\n",
    "# octopi4 = octoprint(data['connect4']['url'],data['connect4']['apikey'])\n",
    "# octopi5 = octoprint(data['connect5']['url'],data['connect5']['apikey'])\n",
    "# octopi6 = octoprint(data['connect6']['url'],data['connect6']['apikey'])\n",
    "# octopi7 = octoprint(data['connect7']['url'],data['connect7']['apikey'])\n",
    "# octopi8 = octoprint(data['connect8']['url'],data['connect8']['apikey'])\n",
    "# octopi9 = octoprint(data['connect9']['url'],data['connect9']['apikey'])\n",
    "\n",
    "\n",
    "\n",
    "octopi.connect()\n",
    "octopi.start_print('start.gcode')\n",
    "# if(octopi.is_Printing()==False):\n",
    "#     print('aa')\n",
    "# octopi2.connect()\n",
    "# octopi3.connect()\n",
    "# octopi4.connect()\n",
    "# octopi5.connect()\n",
    "# octopi6.connect()\n",
    "# octopi7.connect()\n",
    "# octopi8.connect()\n",
    "# octopi9.connect()\n",
    "#print(octopi.printer_state())\n",
    "i = 0\n",
    "time.sleep(5)\n",
    "while i<1:\n",
    "    print(octopi.printer_state())\n",
    "    if  octopi.printer_state():\n",
    "        octopi.start_print('body_scan_0.gcode')  \n",
    "        print('--> Print started 9')\n",
    "        i = 1\n",
    "    else:\n",
    "        print('waiting')\n",
    "        time.sleep(5)"
   ]
  },
  {
   "cell_type": "code",
   "execution_count": 70,
   "id": "59b18b70",
   "metadata": {},
   "outputs": [
    {
     "name": "stdout",
     "output_type": "stream",
     "text": [
      "False\n",
      "False\n"
     ]
    }
   ],
   "source": [
    "print(octopi.printer_state())"
   ]
  },
  {
   "cell_type": "code",
   "execution_count": 86,
   "id": "cbe7ef31",
   "metadata": {},
   "outputs": [
    {
     "name": "stdout",
     "output_type": "stream",
     "text": [
      "True\n",
      "True\n"
     ]
    }
   ],
   "source": [
    "print(octopi.printer_state())\n"
   ]
  },
  {
   "cell_type": "code",
   "execution_count": 87,
   "id": "ce72430d",
   "metadata": {},
   "outputs": [
    {
     "name": "stdout",
     "output_type": "stream",
     "text": [
      "True\n"
     ]
    }
   ],
   "source": [
    "if octopi.printer_state():\n",
    "    octopi.start_print('body_scan_0.gcode')  \n"
   ]
  },
  {
   "cell_type": "code",
   "execution_count": 75,
   "id": "2da983ab",
   "metadata": {},
   "outputs": [],
   "source": [
    "# i = 0\n",
    "# while i<1:\n",
    "#     print(octopi.is_Printing())\n",
    "#     if octopi.is_Printing:\n",
    "#         octopi.start_print('body_scan_0.gcode')  \n",
    "#         print('--> Print started 9')\n",
    "#         i = 1\n",
    "#     else:\n",
    "#         print('waiting')\n",
    "#         time.sleep(10)"
   ]
  },
  {
   "cell_type": "code",
   "execution_count": null,
   "id": "269315fc",
   "metadata": {},
   "outputs": [],
   "source": [
    "print(octopi.is_Printing)"
   ]
  },
  {
   "cell_type": "code",
   "execution_count": null,
   "id": "4bbbc548",
   "metadata": {},
   "outputs": [],
   "source": [
    "print(ocTO)"
   ]
  },
  {
   "cell_type": "code",
   "execution_count": 1,
   "id": "6dd245ae",
   "metadata": {},
   "outputs": [
    {
     "ename": "NameError",
     "evalue": "name 'octoprint' is not defined",
     "output_type": "error",
     "traceback": [
      "\u001b[0;31m---------------------------------------------------------------------------\u001b[0m",
      "\u001b[0;31mNameError\u001b[0m                                 Traceback (most recent call last)",
      "Cell \u001b[0;32mIn [1], line 4\u001b[0m\n\u001b[1;32m      2\u001b[0m url\u001b[38;5;241m=\u001b[39m\u001b[38;5;124m\"\u001b[39m\u001b[38;5;124mhttp://octopi.local\u001b[39m\u001b[38;5;124m\"\u001b[39m\n\u001b[1;32m      3\u001b[0m apikey\u001b[38;5;241m=\u001b[39m\u001b[38;5;124m\"\u001b[39m\u001b[38;5;124m346E643B821D43F68313FB545FA30BE8\u001b[39m\u001b[38;5;124m\"\u001b[39m\n\u001b[0;32m----> 4\u001b[0m printer \u001b[38;5;241m=\u001b[39m \u001b[43moctoprint\u001b[49m(url,apikey)\n\u001b[1;32m      5\u001b[0m printer\u001b[38;5;241m.\u001b[39mconnect()\n",
      "\u001b[0;31mNameError\u001b[0m: name 'octoprint' is not defined"
     ]
    }
   ],
   "source": [
    "#url=\"http://192.168.1.98\"\n",
    "url=\"http://octopi.local\"\n",
    "apikey=\"346E643B821D43F68313FB545FA30BE8\"\n",
    "printer = octoprint(url,apikey)\n",
    "printer.connect()\n"
   ]
  },
  {
   "cell_type": "code",
   "execution_count": null,
   "id": "f3cb5a0e",
   "metadata": {},
   "outputs": [],
   "source": [
    "#printer.printer_state()\n",
    "printer.start_print('cube.gcode')"
   ]
  },
  {
   "cell_type": "code",
   "execution_count": 24,
   "id": "b55ba334",
   "metadata": {},
   "outputs": [
    {
     "name": "stdout",
     "output_type": "stream",
     "text": [
      "<class 'str'>\n",
      "81D69B1858D34B9F891874B60C02919B\n",
      "Connecting..\n",
      "None\n"
     ]
    }
   ],
   "source": [
    "url=\"http://octopi.local:5001\"\n",
    "apikey=\"81D69B1858D34B9F891874B60C02919B\"\n",
    "printer2 = octoprint(url,apikey)\n",
    "printer2.connect()"
   ]
  },
  {
   "cell_type": "code",
   "execution_count": null,
   "id": "d4be5d1c",
   "metadata": {},
   "outputs": [],
   "source": [
    "octopi.upload()"
   ]
  },
  {
   "cell_type": "code",
   "execution_count": 5,
   "id": "49efea03",
   "metadata": {},
   "outputs": [],
   "source": []
  },
  {
   "cell_type": "code",
   "execution_count": null,
   "id": "60ef743e",
   "metadata": {},
   "outputs": [],
   "source": []
  },
  {
   "cell_type": "code",
   "execution_count": null,
   "id": "71ba8bfb",
   "metadata": {},
   "outputs": [],
   "source": []
  },
  {
   "cell_type": "code",
   "execution_count": null,
   "id": "66966f2a",
   "metadata": {},
   "outputs": [],
   "source": []
  },
  {
   "cell_type": "code",
   "execution_count": 14,
   "id": "295aba41",
   "metadata": {},
   "outputs": [],
   "source": []
  },
  {
   "cell_type": "code",
   "execution_count": null,
   "id": "22ad919d",
   "metadata": {},
   "outputs": [],
   "source": []
  },
  {
   "cell_type": "code",
   "execution_count": null,
   "id": "ee0d9da5",
   "metadata": {},
   "outputs": [],
   "source": []
  }
 ],
 "metadata": {
  "kernelspec": {
   "display_name": "Python 3 (ipykernel)",
   "language": "python",
   "name": "python3"
  },
  "language_info": {
   "codemirror_mode": {
    "name": "ipython",
    "version": 3
   },
   "file_extension": ".py",
   "mimetype": "text/x-python",
   "name": "python",
   "nbconvert_exporter": "python",
   "pygments_lexer": "ipython3",
   "version": "3.9.15"
  }
 },
 "nbformat": 4,
 "nbformat_minor": 5
}
